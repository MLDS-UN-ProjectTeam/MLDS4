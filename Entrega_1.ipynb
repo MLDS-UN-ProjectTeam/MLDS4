{
  "cells": [
    {
      "cell_type": "markdown",
      "id": "585dcbfa",
      "metadata": {
        "id": "585dcbfa"
      },
      "source": [
        "<img src=\"resources/banner_1.png\" width=\"100%\">"
      ]
    },
    {
      "cell_type": "markdown",
      "id": "82ea3b5e",
      "metadata": {
        "id": "82ea3b5e"
      },
      "source": [
        "# **Entendimiento del Negocio y Carga de Textos**\n",
        "---\n",
        "\n",
        "## **0. Integrantes del equipo de trabajo**\n",
        "---\n",
        "\n",
        "<table><thead>\n",
        "  <tr>\n",
        "    <th>#</th>\n",
        "    <th>Integrante</th>\n",
        "    <th>Documento de identidad</th>\n",
        "  </tr></thead>\n",
        "<tbody>\n",
        "  <tr>\n",
        "    <td>1</td>\n",
        "    <td>Ivonne Cristina Ruiz Páez</td>\n",
        "    <td>1014302058</td>  \n",
        "  </tr>\n",
        "  <tr>\n",
        "    <td>2</td>\n",
        "    <td>Diego Alejandro Feliciano Ramos</td>\n",
        "    <td>1024586904</td>\n",
        "  </tr>\n",
        "  <tr>\n",
        "    <td>3</td>\n",
        "    <td>Cristhian Enrique Córdoba Trillos</td>\n",
        "    <td>1030649666</td>\n",
        "  </tr>\n",
        "</tbody>\n",
        "</table>"
      ]
    },
    {
      "cell_type": "markdown",
      "id": "fdb4c33d",
      "metadata": {
        "id": "fdb4c33d"
      },
      "source": [
        "## **1. Marco de Proyecto**\n",
        "---"
      ]
    },
    {
      "cell_type": "markdown",
      "id": "7a974ec1",
      "metadata": {
        "id": "7a974ec1"
      },
      "source": [
        "### **1.1. Trasfondo del Negocio**\n",
        "---\n",
        "\n",
        "- ¿Quién es el cliente o los beneficiarios del proyecto? ¿En qué dominio se encuentran (marketing, medicina, entre otros)?\n",
        "- ¿Qué problemas del negocio o del dominio estamos tratando de solucionar?"
      ]
    },
    {
      "cell_type": "markdown",
      "id": "18d9305a",
      "metadata": {
        "id": "18d9305a"
      },
      "source": [
        "---\n",
        "\n",
        "Clientes Directos: Podría ser partidos políticos, candidatos, o podría hacerse una consultoría políticas.\n",
        "\n",
        "Beneficiarios indirectos: La ciudadanía interesada en política, investigadores y los medios de comunicación tradicionales o masivos."
      ]
    },
    {
      "cell_type": "markdown",
      "id": "d09c63e5",
      "metadata": {
        "id": "d09c63e5"
      },
      "source": [
        "### **1.2. Alcance**\n",
        "---\n",
        "\n",
        "- ¿Qué  solución de procesamiento de lenguaje natural tratamos de implementar?\n",
        "- ¿Qué  se hará?\n",
        "- ¿De qué forma el cliente o beneficiario utilizará el producto del proyecto?"
      ]
    },
    {
      "cell_type": "markdown",
      "id": "12e3be6b",
      "metadata": {
        "id": "12e3be6b"
      },
      "source": [
        "---\n",
        "¿Qué solución se plantea?\n",
        "* Solución: Implementaremos un análisis de sentimientos utilizando técnicas de procesamiento de lenguaje natural (NLP) y machine learning. Esto incluirá la recolección de tweets, preprocesamiento de texto, y la aplicación de modelos de clasificación para determinar el sentimiento (positivo, negativo, neutro) de los tweets sobre políticos colombianos como Gustavo Petro, Uribe Velez, Gustavo Bolívar, Enrique Peñalosa, etc.\n",
        "\n",
        "¿Cómo se hará?\n",
        "* Recolección de Datos: Utilizaremos la API de Twitter para recolectar tweets relevantes.\n",
        "* Preprocesamiento de Texto: Limpiaremos y normalizaremos los datos, eliminando signos de puntuación, emojis, hashtags, links, y menciones. También realizaremos lematización y eliminación de stopwords1.\n",
        "* Entrenamiento de Modelos: Entrenaremos modelos de machine learning, como regresión logística, redes neuronales, y otros clasificadores, utilizando datasets etiquetados con sentimientos12.\n",
        "* Evaluación y Validación: Evaluaremos la precisión de los modelos y ajustaremos los hiperparámetros para mejorar el rendimiento.\n",
        "* Implementación: Desplegaremos el modelo en una plataforma accesible para los usuarios, permitiendo la consulta de análisis de sentimientos en tiempo real.\n",
        "\n",
        "¿De qué forma el cliente o beneficiario utilizará el producto del proyecto?\n",
        "* Clientes Directos: Los partidos políticos y consultoras podrán utilizar el análisis de sentimientos para ajustar sus estrategias de comunicación y campaña.\n",
        "* Beneficiarios Indirectos: Los ciudadanos y medios de comunicación podrán acceder a la plataforma para entender mejor la percepción pública de los políticos.\n",
        "* Investigadores: Desde la academia se podrá utilizar los datos para estudios sobre opinión pública y del entendimiento del comportamiento electoral.\n"
      ]
    },
    {
      "cell_type": "markdown",
      "id": "370e4a5d",
      "metadata": {
        "id": "370e4a5d"
      },
      "source": [
        "### **1.3. Plan**"
      ]
    },
    {
      "cell_type": "markdown",
      "id": "3b465355",
      "metadata": {
        "id": "3b465355"
      },
      "source": [
        "---\n",
        "\n",
        "Para la ejecución de las actividades se tomó la decisión de usar [GitHub](https://github.com/) con Jira integrado, esto permitirá llevar un seguimiento detallado del trabajo a realizar a su vez de intentar asegurar la calidad de los entregables.\n",
        "\n",
        "\n",
        "A continuación se detalla el [diagrama de Gantt llevado a cabo con Jira](https://unal-team-mlds-project.atlassian.net/jira/software/projects/MLDS3/boards/3/timeline) con las tareas conocidas hasta ahora:\n",
        "\n",
        "<img src=\"resources/gantt.png\" alt=\"Diagrama de Gantt\" width=\"100%\"></img>\n",
        "\n",
        "También se hace constar que el proyecto, tal y como fue creado y seguirá siendo modificado en Jira, constará de épicas que corresponden a cada entrega del proyecto, con tareas que engloban los puntos iniciales a realizar y subtareas que describen mejor cada uno de los subitems que se deben realizar en el punto.\n",
        "\n",
        "Además del [estado actual de las epicas, tareas y subtareas](https://unal-team-mlds-project.atlassian.net/jira/software/projects/MLDS3/boards/3):\n",
        "\n",
        "<img src=\"resources/sprint_view.png\" alt = \"Vista del sprint\" width=\"100%\"></img>\n",
        "\n",
        "También, se añade una vista detallada de una de las tareas para mayor claridad sobre la distribución y asignación de tareas:\n",
        "\n",
        "<img src=\"resources/task_view.png\" alt = \"Vista de tarea\" width=\"100%\"></img>\n",
        "\n",
        "Por último, se añade una visualización al trabajo conocido y estimado hasta ahora en [el backlog del proyecto](https://unal-team-mlds-project.atlassian.net/jira/software/projects/MLDS3/boards/3/backlog):\n",
        "\n",
        "<img src=\"resources/backlog.png\" alt=\"Vista del backlog\" width=\"100%\"></img>"
      ]
    },
    {
      "cell_type": "markdown",
      "id": "4a4e145b",
      "metadata": {
        "id": "4a4e145b"
      },
      "source": [
        "## **2. Definición del Corpus**\n",
        "---\n",
        "\n",
        "En esta sección debe adjuntar una descripción del corpus y agregar el código que permite su tratamiento."
      ]
    },
    {
      "cell_type": "markdown",
      "id": "2c5f8274",
      "metadata": {
        "id": "2c5f8274"
      },
      "source": [
        "### **2.1. Origen**\n",
        "---\n",
        "\n",
        "- ¿De dónde vienen los textos?\n",
        "- ¿Se usa alguna herramienta o proceso para la descarga de la información textual?\n",
        "- ¿Qué tipo de textos estamos manejando?"
      ]
    },
    {
      "cell_type": "markdown",
      "id": "7261ad96",
      "metadata": {
        "id": "7261ad96"
      },
      "source": [
        "---\n",
        "\n",
        "¿De dónde vienen los textos?\n",
        "\n",
        "* Los textos provienen de X (Twitter anteriormente) , una plataforma de redes sociales donde los usuarios publican mensajes cortos llamados exs (tweets). Estos mensajes cortos contienen opiniones y comentarios sobre diversos temas, incluyendo la política, que es nuestro tema de estudio.\n",
        "\n",
        "¿Se usa alguna herramienta o proceso para la descarga de la información textual?\n",
        "\n",
        "* Sí, se utiliza la API de Twitter para recolectar los tweets. Esta API permite acceder a los datos públicos de Twitter y extraer tweets que mencionan a los políticos colombianos de interés (Gustavo Petro, Uribe Vélez, Gustavo Bolívar, Enrique Peñalosa, etc.).\n",
        "Además, se pueden utilizar herramientas como Tweepy o Tiwkit (bibliotecas de Python) para interactuar con la API de Twitter y automatizar el proceso de recolección de datos.\n",
        "\n",
        "¿Qué tipo de textos estamos manejando?\n",
        "\n",
        "* Estamos manejando exs (tweets), que son mensajes cortos de hasta 280 caracteres. Estos textos pueden incluir menciones, hashtags, enlaces, emojis, y otros elementos característicos de las redes sociales.\n",
        "Los tweets pueden ser de naturaleza variada, incluyendo opiniones, comentarios, críticas, y apoyo hacia los políticos mencionados."
      ]
    },
    {
      "cell_type": "markdown",
      "id": "4a9cc180",
      "metadata": {
        "id": "4a9cc180"
      },
      "source": [
        "### **2.2. Carga o Adquisición de Textos**\n",
        "---"
      ]
    },
    {
      "cell_type": "markdown",
      "id": "4b631d6c",
      "metadata": {},
      "source": [
        "Para la carga o adquisicón de texto utilizaremos los siguientes fragmentos de código en Python:\n",
        "\n",
        "1° * Importar las bibliotecas necesarias:"
      ]
    },
    {
      "cell_type": "code",
      "execution_count": null,
      "id": "5305b4cf",
      "metadata": {},
      "outputs": [
        {
          "name": "stdout",
          "output_type": "stream",
          "text": [
            "Requirement already satisfied: twikit in /usr/local/lib/python3.11/dist-packages (2.3.3)\n",
            "Requirement already satisfied: httpx[socks] in /usr/local/lib/python3.11/dist-packages (from twikit) (0.28.1)\n",
            "Requirement already satisfied: filetype in /usr/local/lib/python3.11/dist-packages (from twikit) (1.2.0)\n",
            "Requirement already satisfied: beautifulsoup4 in /usr/local/lib/python3.11/dist-packages (from twikit) (4.13.3)\n",
            "Requirement already satisfied: pyotp in /usr/local/lib/python3.11/dist-packages (from twikit) (2.9.0)\n",
            "Requirement already satisfied: lxml in /usr/local/lib/python3.11/dist-packages (from twikit) (5.3.1)\n",
            "Requirement already satisfied: webvtt-py in /usr/local/lib/python3.11/dist-packages (from twikit) (0.5.1)\n",
            "Requirement already satisfied: m3u8 in /usr/local/lib/python3.11/dist-packages (from twikit) (6.0.0)\n",
            "Requirement already satisfied: Js2Py-3.13 in /usr/local/lib/python3.11/dist-packages (from twikit) (0.74.1)\n",
            "Requirement already satisfied: soupsieve>1.2 in /usr/local/lib/python3.11/dist-packages (from beautifulsoup4->twikit) (2.6)\n",
            "Requirement already satisfied: typing-extensions>=4.0.0 in /usr/local/lib/python3.11/dist-packages (from beautifulsoup4->twikit) (4.13.0)\n",
            "Requirement already satisfied: anyio in /usr/local/lib/python3.11/dist-packages (from httpx[socks]->twikit) (4.9.0)\n",
            "Requirement already satisfied: certifi in /usr/local/lib/python3.11/dist-packages (from httpx[socks]->twikit) (2025.1.31)\n",
            "Requirement already satisfied: httpcore==1.* in /usr/local/lib/python3.11/dist-packages (from httpx[socks]->twikit) (1.0.7)\n",
            "Requirement already satisfied: idna in /usr/local/lib/python3.11/dist-packages (from httpx[socks]->twikit) (3.10)\n",
            "Requirement already satisfied: socksio==1.* in /usr/local/lib/python3.11/dist-packages (from httpx[socks]->twikit) (1.0.0)\n",
            "Requirement already satisfied: h11<0.15,>=0.13 in /usr/local/lib/python3.11/dist-packages (from httpcore==1.*->httpx[socks]->twikit) (0.14.0)\n",
            "Requirement already satisfied: tzlocal>=1.2 in /usr/local/lib/python3.11/dist-packages (from Js2Py-3.13->twikit) (5.3.1)\n",
            "Requirement already satisfied: six>=1.10 in /usr/local/lib/python3.11/dist-packages (from Js2Py-3.13->twikit) (1.17.0)\n",
            "Requirement already satisfied: pyjsparser>=2.5.1 in /usr/local/lib/python3.11/dist-packages (from Js2Py-3.13->twikit) (2.7.1)\n",
            "Requirement already satisfied: sniffio>=1.1 in /usr/local/lib/python3.11/dist-packages (from anyio->httpx[socks]->twikit) (1.3.1)\n"
          ]
        }
      ],
      "source": [
        "%pip install twikit"
      ]
    },
    {
      "cell_type": "markdown",
      "id": "beceee5c",
      "metadata": {},
      "source": [
        "2° * Usar la librería recien instalada para interactuar con la API de Twitter:"
      ]
    },
    {
      "cell_type": "code",
      "execution_count": null,
      "id": "6f719b28",
      "metadata": {},
      "outputs": [
        {
          "name": "stdout",
          "output_type": "stream",
          "text": [
            "Use your code generator app to generate a code and enter it below.\n",
            ">>>660282\n"
          ]
        }
      ],
      "source": [
        "from twikit import Client\n",
        "\n",
        "MINIMUM_TWEETS = 1000\n",
        "\n",
        "## La cuenta a usar (el arroba) -> username = '<inserten su arroba>'\n",
        "## La contraseña -> password = '<inserten su contraseña>'\n",
        "## El correo -> email = '<inserten su correo>'\n",
        "\n",
        "client = Client()\n",
        "\n",
        "await client.login(\n",
        "    auth_info_1=username,\n",
        "    auth_info_2=email,\n",
        "    password=password,\n",
        "    cookies_file='cookies.json'\n",
        "    )"
      ]
    },
    {
      "cell_type": "markdown",
      "id": "62a3cf66",
      "metadata": {},
      "source": [
        "3° * Obtener tweets de un usuario específico:"
      ]
    },
    {
      "cell_type": "code",
      "execution_count": null,
      "id": "30f84d43",
      "metadata": {},
      "outputs": [],
      "source": [
        "username = \"petrogustavo\"\n",
        "user = await client.get_user_by_screen_name(username)\n",
        "user_id = user.id\n",
        "tweets = await client.get_user_tweets(user_id,tweet_type='Tweets', count=MINIMUM_TWEETS)"
      ]
    },
    {
      "cell_type": "markdown",
      "id": "c02de6d8",
      "metadata": {},
      "source": [
        "4° * Imprimir en pantalla los tweets obtenidos con alguna información extra relevante, como la fecha de creación del tweet:"
      ]
    },
    {
      "cell_type": "code",
      "execution_count": null,
      "id": "0cc33dae",
      "metadata": {},
      "outputs": [
        {
          "name": "stdout",
          "output_type": "stream",
          "text": [
            "Mientras en Cartagena bajamos la mortalidad materna, indicador ínternacional de la eficiencia de los servicios de salud, a cero, 0, casos... En Bogotá se elevó, el año pasado a 22 casos\n",
            "\n",
            "Eso demuestra la falta de atención primaria y preventiva en salud en Bogotá, Wed Apr 02 01:48:37 +0000 2025\n",
            "Cerrar el servicio a neonatos va contra la constitución de Colombia. Y contra la vida humana, Wed Apr 02 01:37:19 +0000 2025\n",
            "Este es el comportamiemro de la tasa de interés dictaminada por el Banco de la República y el comportamiento de la inflación desde enero del 2022.\n",
            "\n",
            "Noten como han puesto artificialmente la tasa de interés por encima de la inflación, esto es una tasa de interés real positiva e https://t.co/oLqN6rwvym, Tue Apr 01 19:48:02 +0000 2025\n",
            "RT @hyperconectado: Si les salen estos anuncios por favor informarme.  Gracias a ustedes descubro que pautan por un tiempo determinado y lu…, Tue Apr 01 16:47:21 +0000 2025\n",
            "Este cuadro de Portafolio confirma lo que dije ayer en el consejo de ministros y confirma, también, que el Banco de la República no tuvo razón al sostener la tasa de  interés. Sin bajarla.\n",
            "\n",
            "1 la subdida del gas en febrero no permitió bajar la inflación en el mes de febrero. Subió https://t.co/myUE8O1LEq, Tue Apr 01 15:43:27 +0000 2025\n",
            "Muy interesante, mientras la mamá es la asesora de la líder del movimiento más extremo de oposición; la hija, que es miembro de la Junta directiva del Banco de la República, no permite que baje la tasa de interés de la economía, buscando que el gobierno, al que la mamá se opone,, Tue Apr 01 14:54:34 +0000 2025\n",
            "RT @RadNalCo: 🇨🇴#ConsejoDeMinistros \"Si se aprueba la Reforma Pensional, se dispara la formalidad, porque mucha más gente va a entrar a la…, Tue Apr 01 14:33:49 +0000 2025\n",
            "Mi mayor error en el gobierno. https://t.co/E0IKrFTS3p, Tue Apr 01 12:52:00 +0000 2025\n",
            "RT @petrogustavo: El se llama Elkana, nació en Israel, nunca participó en actividades militares allí, pero en algún concierto de tecno, mús…, Tue Apr 01 00:34:39 +0000 2025\n",
            "RT @GustavoBolivar: Durante los gobiernos de Uribe, Santos y Duque, las tasas de interés estuvieron por debajo o igual a la inflación. \n",
            "Dur…, Tue Apr 01 00:32:26 +0000 2025\n",
            "Mientras cae profundamente el desempleo laboral y aumenta rápidamente la ocupación laboral; la junta directiva del Banco de la República, por razones exclusivamente políticas, busca contener el crecimiento económico; no para frenar la inflación, que el mes pasado se mantuvo, Mon Mar 31 20:08:30 +0000 2025\n",
            "Estamos llegando a la tasa de desempleo más baja del siglo, pero así titula el periodico conservador. No se acuerdan que tanto sectarismo solo nos llevó a esta violencia que no termina.\n",
            "\n",
            "Repiten la historia., Mon Mar 31 16:31:16 +0000 2025\n",
            "Averigüemos quien promociona en X esta campaña de calumnia y denunciemosla, Mon Mar 31 16:25:33 +0000 2025\n",
            "El consejo de estado negó una tutela de quienes pretendían que no mostrara la bandera del M19.\n",
            "\n",
            "Insisto que la bandera del M19 es legal por acuerdo de paz de 1989, y que es parte de la historia de un partido político, también, legal, la ADM19, que cambió su nombre por partido https://t.co/tL8FPQ3edp, Mon Mar 31 15:30:15 +0000 2025\n",
            "Aquí, con la incautacion de 0,6 toneladas de cicaína en el puerto de Buenaventura, descubrimos una nueva ruta.\n",
            "\n",
            "La cocaína salió de un puerto ecuatoriano, paso en escala intermedia al puerto de Burnaventura e iba posiblemente para China.\n",
            "\n",
            "El uso del puerto de Buenaventura para https://t.co/TTos4Ww91x, Mon Mar 31 14:38:23 +0000 2025\n",
            "Señora @FiscaliaCol , durante varias ocasiones, he mostrado estos perfiles neonazis que buscan la muerte de la diferencia.\n",
            "\n",
            "Es fácil ubicar los autores verdaderos con informática forense. Pero pasa el tiempo y no se ubican y van a pasar a la acción., Mon Mar 31 14:01:27 +0000 2025\n",
            "Veo gente en los poderes públicos y en la delincuencia buscando censurame, por doquier. No diga esto, rectifique, retráctese, etc. No transmita. No hable. Quieren silenciar, así de simple, la palabra, que es la base de la política, del logos y el pensar y del dialogo. \n",
            "\n",
            "Me gusta, Mon Mar 31 13:20:56 +0000 2025\n",
            "Por que la JEP  no recibe versiones de paramiliares, y se reduce a exguerrileros y militares, cuando el acuerdo de paz, dice que podrían citar hasta a narcotraficantes?\n",
            "\n",
            "Creo que aquí hay una de las grandes barreras a la eficiencia judicial y a la verdad https://t.co/RyIUdftQo2, Mon Mar 31 12:20:48 +0000 2025\n",
            "Cuando se colocan sobretasas de cualquier tipo sobre facturas del agua o de la energía, se están poniendo impuestos de tipo regresivo en general a toda la población. \n",
            "\n",
            "La constitución nos ordena es ponerlas de manera progresiva, es decir, que afecten más a los que más tienen y no, Mon Mar 31 12:05:03 +0000 2025\n",
            "RT @infopresidencia: El Presidente @petrogustavo anunció que en Montería se va a realizar el encuentro del Caribe y Centroamérica con el go…, Mon Mar 31 11:47:01 +0000 2025\n"
          ]
        }
      ],
      "source": [
        "for tweet in tweets:\n",
        "    print(tweet.text +\", \" + tweet.created_at)"
      ]
    },
    {
      "cell_type": "markdown",
      "id": "698f42d4",
      "metadata": {
        "id": "698f42d4"
      },
      "source": [
        "## **Créditos**\n",
        "\n",
        "* **Profesor:** [Felipe Restrepo Calle](https://dis.unal.edu.co/~ferestrepoca/)\n",
        "* **Asistentes docentes:**\n",
        "    - [Juan Sebastián Lara Ramírez](https://www.linkedin.com/in/juan-sebastian-lara-ramirez-43570a214/).\n",
        "* **Diseño de imágenes:**\n",
        "    - [Rosa Alejandra Superlano Esquibel](mailto:rsuperlano@unal.edu.co).\n",
        "* **Coordinador de virtualización:**\n",
        "    - [Edder Hernández Forero](https://www.linkedin.com/in/edder-hernandez-forero-28aa8b207/).\n",
        "\n",
        "**Universidad Nacional de Colombia** - *Facultad de Ingeniería*"
      ]
    }
  ],
  "metadata": {
    "colab": {
      "provenance": []
    },
    "jupytext": {
      "cell_metadata_filter": "-all"
    },
    "kernelspec": {
      "display_name": "Python 3 (ipykernel)",
      "language": "python",
      "name": "python3"
    }
  },
  "nbformat": 4,
  "nbformat_minor": 5
}
